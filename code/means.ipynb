{
 "cells": [
  {
   "cell_type": "markdown",
   "id": "211cc747-7cab-4860-ae6a-0799445c7f53",
   "metadata": {},
   "source": [
    "### Loading the data "
   ]
  },
  {
   "cell_type": "code",
   "execution_count": 1,
   "id": "391d9343-9eff-4649-8d7f-6799c7de6553",
   "metadata": {},
   "outputs": [],
   "source": [
    "import pandas as pd\n",
    "\n",
    "# Import csv files\n",
    "g1 = pd.read_csv('g1.csv', delimiter=\";\")\n",
    "g2 = pd.read_csv('g2.csv', delimiter=\";\")\n",
    "\n",
    "# NaN = 0\n",
    "\n",
    "for column in g1.columns:\n",
    "    if g1[column].dtype in ['float64', 'int64']:\n",
    "        g1[column] = g1[column].fillna(0)\n",
    "\n",
    "for column in g2.columns:\n",
    "    if g2[column].dtype in ['float64', 'int64']:\n",
    "        g2[column] = g2[column].fillna(0)\n",
    "\n",
    "# Exclude columns containing \"Other\" in their names to avoid showing on the new csv that contains only MEANS\n",
    "g1_filtered = g1[[col for col in g1.columns if \"Other\" not in col]]\n",
    "g2_filtered = g2[[col for col in g2.columns if \"Other\" not in col]]\n",
    "\n",
    "# Calculate means for numerical columns in the filtered DataFrames\n",
    "g1_means = g1_filtered.select_dtypes(include=['float', 'int']).mean()\n",
    "g2_means = g2_filtered.select_dtypes(include=['float', 'int']).mean()\n",
    "\n",
    "# Convert means to DataFrame for saving\n",
    "g1_means_df = pd.DataFrame(g1_means, columns=['Mean']).reset_index()\n",
    "g2_means_df = pd.DataFrame(g2_means, columns=['Mean']).reset_index()\n",
    "\n",
    "# Save to new CSV files\n",
    "g1_means_df.to_csv('g1_means.csv', index=False, sep=';')\n",
    "g2_means_df.to_csv('g2_means.csv', index=False, sep=';')"
   ]
  },
  {
   "cell_type": "markdown",
   "id": "fda740c1-ddca-4e66-bdfa-20823d2a7c30",
   "metadata": {},
   "source": [
    "### Statistical Analysis"
   ]
  },
  {
   "cell_type": "code",
   "execution_count": 9,
   "id": "47e6662c-1ded-48da-83df-324ea5de716a",
   "metadata": {},
   "outputs": [
    {
     "name": "stdout",
     "output_type": "stream",
     "text": [
      "Mean Age Group 1: 19.904761904761905\n",
      "Mean Age Group 2: 20.666666666666668\n",
      "Total Mean Age: 20.285714285714285\n",
      "Standard Deviation Age Group 1: 9.486331018390418\n",
      "Standard Deviation Age Group 2: 5.57075698027955\n",
      "Total SD Age: 7.528543999334984\n"
     ]
    }
   ],
   "source": [
    "# Demographic analysis\n",
    "\n",
    "# mean \n",
    "\n",
    "mean_age_group1 = g1['Please enter your age (enter a valid number):'].mean()\n",
    "mean_age_group2 = g2['Please enter your age (enter a valid number):'].mean()\n",
    "\n",
    "print(\"Mean Age Group 1:\", mean_age_group1)\n",
    "print(\"Mean Age Group 2:\", mean_age_group2)\n",
    "\n",
    "total_mean_study = (mean_age_group1+mean_age_group2)/2\n",
    "print(\"Total Mean Age:\", total_mean_study)\n",
    "\n",
    "# std \n",
    "\n",
    "std_age_group1 = g1['Please enter your age (enter a valid number):'].std()\n",
    "std_age_group2 = g2['Please enter your age (enter a valid number):'].std()\n",
    "\n",
    "print(\"Standard Deviation Age Group 1:\", std_age_group1)\n",
    "print(\"Standard Deviation Age Group 2:\", std_age_group2)\n",
    "\n",
    "total_sd_study = (std_age_group1+std_age_group2)/2\n",
    "print(\"Total SD Age:\", total_sd_study)"
   ]
  },
  {
   "cell_type": "code",
   "execution_count": 3,
   "id": "beea276e-578f-4016-b7d5-1e44343fef5e",
   "metadata": {},
   "outputs": [
    {
     "name": "stdout",
     "output_type": "stream",
     "text": [
      "       Fragment Highest Emotion\n",
      "1    Fragment 1            JOY \n",
      "2    Fragment 2      NOSTALGIA \n",
      "3    Fragment 3       NOSTALGIA\n",
      "4    Fragment 4    PEACEFULNESS\n",
      "5    Fragment 5       NOSTALGIA\n",
      "6    Fragment 6      TENDERNESS\n",
      "7    Fragment 7        TENSION \n",
      "8    Fragment 8       NOSTALGIA\n",
      "9    Fragment 9        SADNESS \n",
      "10  Fragment 10            JOY \n",
      "11  Fragment 11       NOSTALGIA\n",
      "12  Fragment 12            JOY \n",
      "13  Fragment 13       NOSTALGIA\n",
      "14  Fragment 14        SADNESS \n",
      "15  Fragment 15            JOY \n",
      "16  Fragment 16    PEACEFULNESS\n",
      "17  Fragment 17           POWER\n",
      "18  Fragment 18       NOSTALGIA\n",
      "19  Fragment 19        TENSION \n",
      "20  Fragment 20         WONDER \n",
      "21  Fragment 21        TENSION \n",
      "22  Fragment 22        TENSION \n",
      "23  Fragment 23       NOSTALGIA\n",
      "24  Fragment 24    PEACEFULNESS\n",
      "25  Fragment 25           POWER\n",
      "26  Fragment 26         WONDER \n",
      "27  Fragment 27        TENSION \n",
      "28  Fragment 28       NOSTALGIA\n",
      "29  Fragment 29           POWER\n",
      "30  Fragment 30         WONDER \n"
     ]
    }
   ],
   "source": [
    "# Highest emotion per fragment - Group 1 (humans)\n",
    "\n",
    "highest_emotion_g1 = {}\n",
    "\n",
    "for fragment_number in range(1, 31): \n",
    "    # Filter rows for the current fragment number by checking if the row starts with the fragment number and a dash\n",
    "    fragment_rows = g1_means_df[g1_means_df['index'].astype(str).str.startswith(f\"{fragment_number} -\")]\n",
    "    \n",
    "     # Find the row with the highest mean for this fragment if any rows were found\n",
    "    if not fragment_rows.empty:\n",
    "        max_emotion_row = fragment_rows.loc[fragment_rows['Mean'].idxmax()]\n",
    "        # Extract only the emotion name (after the dash)\n",
    "        emotion_name = max_emotion_row['index'].split(\" - \", 1)[1]\n",
    "        highest_emotion_g1[f\"Fragment {fragment_number}\"] = emotion_name\n",
    "\n",
    "highest_emotion_df1 = pd.DataFrame(list(highest_emotion_g1.items()), columns=['Fragment', 'Highest Emotion'])\n",
    "highest_emotion_df1.index += 1 \n",
    "print(highest_emotion_df1)"
   ]
  },
  {
   "cell_type": "code",
   "execution_count": 4,
   "id": "27e60b2b-8564-48ab-9675-8cc5830a4d56",
   "metadata": {},
   "outputs": [
    {
     "name": "stdout",
     "output_type": "stream",
     "text": [
      "       Fragment Highest Emotion\n",
      "1    Fragment 1            JOY \n",
      "2    Fragment 2         SADNESS\n",
      "3    Fragment 3       NOSTALGIA\n",
      "4    Fragment 4            JOY \n",
      "5    Fragment 5        TENSION \n",
      "6    Fragment 6      TENDERNESS\n",
      "7    Fragment 7        TENSION \n",
      "8    Fragment 8    PEACEFULNESS\n",
      "9    Fragment 9    PEACEFULNESS\n",
      "10  Fragment 10            JOY \n",
      "11  Fragment 11    PEACEFULNESS\n",
      "12  Fragment 12         WONDER \n",
      "13  Fragment 13  TRANSCENDENCE \n",
      "14  Fragment 14        SADNESS \n",
      "15  Fragment 15            JOY \n",
      "16  Fragment 16         WONDER \n",
      "17  Fragment 17        TENSION \n",
      "18  Fragment 18       NOSTALGIA\n",
      "19  Fragment 19        TENSION \n",
      "20  Fragment 20    PEACEFULNESS\n",
      "21  Fragment 21        TENSION \n",
      "22  Fragment 22           POWER\n",
      "23  Fragment 23         WONDER \n",
      "24  Fragment 24    PEACEFULNESS\n",
      "25  Fragment 25            JOY \n",
      "26  Fragment 26            JOY \n",
      "27  Fragment 27        TENSION \n",
      "28  Fragment 28            JOY \n",
      "29  Fragment 29           POWER\n",
      "30  Fragment 30            JOY \n"
     ]
    }
   ],
   "source": [
    "# Highest emotion per fragment - Group 2 (AI)\n",
    "\n",
    "highest_emotion_g2 = {}\n",
    "\n",
    "for fragment_number in range(1, 31): \n",
    "    # Filter rows for the current fragment number by checking if the row starts with the fragment number and a dash\n",
    "    fragment_rows = g2_means_df[g2_means_df['index'].astype(str).str.startswith(f\"{fragment_number} -\")]\n",
    "    \n",
    "    # Find the row with the highest mean for this fragment if any rows were found\n",
    "    if not fragment_rows.empty:\n",
    "        max_emotion_row = fragment_rows.loc[fragment_rows['Mean'].idxmax()]\n",
    "        # Extract only the emotion name (after the dash)\n",
    "        emotion_name = max_emotion_row['index'].split(\" - \", 1)[1]\n",
    "        highest_emotion_g2[f\"Fragment {fragment_number}\"] = emotion_name\n",
    "\n",
    "highest_emotion_df2 = pd.DataFrame(list(highest_emotion_g2.items()), columns=['Fragment', 'Highest Emotion'])\n",
    "highest_emotion_df2.index += 1 \n",
    "print(highest_emotion_df2)"
   ]
  }
 ],
 "metadata": {
  "kernelspec": {
   "display_name": "Python 3 (ipykernel)",
   "language": "python",
   "name": "python3"
  },
  "language_info": {
   "codemirror_mode": {
    "name": "ipython",
    "version": 3
   },
   "file_extension": ".py",
   "mimetype": "text/x-python",
   "name": "python",
   "nbconvert_exporter": "python",
   "pygments_lexer": "ipython3",
   "version": "3.12.1"
  }
 },
 "nbformat": 4,
 "nbformat_minor": 5
}
